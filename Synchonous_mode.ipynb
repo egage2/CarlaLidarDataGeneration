{
 "cells": [
  {
   "cell_type": "code",
   "execution_count": 1,
   "id": "de54b78c-36ed-4faf-b2b1-eb44e2d09dbe",
   "metadata": {},
   "outputs": [
    {
     "name": "stdout",
     "output_type": "stream",
     "text": [
      "Jupyter environment detected. Enabling Open3D WebVisualizer.\n",
      "[Open3D INFO] WebRTC GUI backend enabled.\n",
      "[Open3D INFO] WebRTCWindowSystem: HTTP handshake server disabled.\n"
     ]
    }
   ],
   "source": [
    "import carla \n",
    "import math \n",
    "import random \n",
    "import time \n",
    "import numpy as np\n",
    "    \n",
    "import cv2\n",
    "import open3d as o3d\n",
    "from matplotlib import cm\n",
    "from queue import Queue\n",
    "from queue import Empty\n",
    "# Connect the client and set up bp library and spawn point\n",
    "client = carla.Client('localhost', 2000)\n",
    "world = client.get_world()\n",
    "bp_lib = world.get_blueprint_library() \n",
    "spawn_points = world.get_map().get_spawn_points()\n",
    "# tm = client.get_trafficmanager(8000)\n",
    "\n"
   ]
  },
  {
   "cell_type": "code",
   "execution_count": 2,
   "id": "7f66da56-9888-4e62-b3eb-1a72217bcf5c",
   "metadata": {},
   "outputs": [],
   "source": [
    "#Load Specific Town Map\n",
    "client.load_world('Town03')\n",
    "spawn_points = world.get_map().get_spawn_points()\n",
    "original_settings = world.get_settings()"
   ]
  },
  {
   "cell_type": "code",
   "execution_count": 3,
   "id": "a530e3df-dd08-4f43-a19d-5ddb8ea242e2",
   "metadata": {},
   "outputs": [],
   "source": [
    "#generate simulated Semantic Lidar, spawn near 4 Way intersection (Traffic Light 1)\n",
    "#Location(x=-11.506108, y=-125.105507, z=0.152402)\n",
    "def get_semantic_lidar_bp():\n",
    "    lidar_bp = world.get_blueprint_library().find('sensor.lidar.ray_cast_semantic')\n",
    "    \n",
    "    lidar_bp.set_attribute('channels', '64')\n",
    "    lidar_bp.set_attribute('range', '120.0')\n",
    "    lidar_bp.set_attribute('points_per_second', '1310720')\n",
    "    lidar_bp.set_attribute('rotation_frequency', '20.0')\n",
    "    lidar_bp.set_attribute('upper_fov', '16.6')\n",
    "    lidar_bp.set_attribute('lower_fov', '-16.6')\n",
    "    lidar_bp.set_attribute('horizontal_fov', '360.0')\n",
    "    lidar_bp.set_attribute('sensor_tick', '0.0')\n",
    "    \n",
    "    \n",
    "    return lidar_bp\n"
   ]
  },
  {
   "cell_type": "code",
   "execution_count": 4,
   "id": "788ea264-a9f3-4d91-80fc-4684ceb08ab2",
   "metadata": {},
   "outputs": [],
   "source": [
    "def spawn_camera():\n",
    "    camera_bp = world.get_blueprint_library().find('sensor.camera.instance_segmentation')\n",
    "    location = carla.Location(18,-124,13)\n",
    "    rotation = carla.Rotation(-30,-133,0)\n",
    "    camera_init_trans = carla.Transform(location,rotation)\n",
    "    return camera_bp,camera_init_trans\n",
    "    "
   ]
  },
  {
   "cell_type": "code",
   "execution_count": 5,
   "id": "144344b6-2913-470c-b757-9d00793c7d94",
   "metadata": {},
   "outputs": [],
   "source": [
    "def camera_callback(image, data):\n",
    "    data['image'] = np.reshape(np.copy(image.raw_data), (image.height, image.width, 4))\n",
    "    image.save_to_disk(f\"tutorial/camera_data/{image.frame}.png\")"
   ]
  },
  {
   "cell_type": "code",
   "execution_count": 6,
   "id": "4d8df5fa-2bd1-4405-9fd9-2598d195b79e",
   "metadata": {},
   "outputs": [],
   "source": [
    "#Move Spectator to Semantic Lidar location, used for checking spawn location\n",
    "def setSpectator(transform):\n",
    "    spectator = world.get_spectator()\n",
    "    # transform = carla.Transform(semantic_lidar.get_transform().location, semantic_lidar.get_transform().rotation)\n",
    "    spectator.set_transform(transform)\n",
    "    print(spectator.id)"
   ]
  },
  {
   "cell_type": "code",
   "execution_count": 7,
   "id": "835b5d07-f45f-4955-8097-f2dfb7127032",
   "metadata": {},
   "outputs": [],
   "source": [
    "def turnOnVehicleAI(tmanag):\n",
    "    tm_port = tmanag.get_port()\n",
    "    for v in world.get_actors().filter('*vehicle*'):\n",
    "        v.set_autopilot(True,tm_port)"
   ]
  },
  {
   "cell_type": "code",
   "execution_count": 8,
   "id": "f6e0c128-9b72-473c-a990-3bc5aff571da",
   "metadata": {},
   "outputs": [],
   "source": [
    "def turnOffVehicleAI():\n",
    "    for v in world.get_actors().filter('*vehicle*'):\n",
    "        v.set_autopilot(False)\n",
    "        v.destroy()"
   ]
  },
  {
   "cell_type": "code",
   "execution_count": 9,
   "id": "266ab3de-0ebc-4ca7-ad93-2126232ccc92",
   "metadata": {},
   "outputs": [],
   "source": [
    "def sensor_callback1(sensor_data, sensor_queue, sensor_name):\n",
    "    # Do stuff with the sensor_data data like save it to disk\n",
    "    # Then you just need to add to the queue\n",
    "    sensor_queue.put_nowait(sensor_data)"
   ]
  },
  {
   "cell_type": "code",
   "execution_count": 10,
   "id": "8f7d3a5a-9b61-4dd6-9e20-0c418beab994",
   "metadata": {},
   "outputs": [],
   "source": [
    "def sensor_callback2(sensor_data, sensor_queue, sensor_name):\n",
    "    # Do stuff with the sensor_data data like save it to disk\n",
    "    # Then you just need to add to the queue\n",
    "    sensor_queue.put_nowait(sensor_data)"
   ]
  },
  {
   "cell_type": "code",
   "execution_count": 11,
   "id": "fba727f5-5d88-4178-9c0f-aa1de4c321a4",
   "metadata": {},
   "outputs": [],
   "source": [
    "def transform_points(self, points, xyz, rpy):\n",
    "        x, y, z = xyz[0],xyz[1],xyz[2]\n",
    "        roll, pitch, yaw = rpy[0],rpy[1],rpy[2]\n",
    "        pos = points[:,:3]\n",
    "        M = euler_matrix(roll, pitch, yaw).astype(np.float32)\n",
    "        M[0:3,3] = np.array([x, y, z])\n",
    "        pos = np.hstack((pos, np.ones((pos.shape[0],1), dtype=np.float32)))\n",
    "        pos = (M @ pos.T).T\n",
    "        points[:,:3] = pos[:,:3]\n",
    "        return points"
   ]
  },
  {
   "cell_type": "code",
   "execution_count": 1,
   "id": "d22c7a27-5b75-4635-b390-4673e1466856",
   "metadata": {},
   "outputs": [],
   "source": [
    "def get_camera_semantic_data(data, file):\n",
    "    camera_ID_list = []\n",
    "    #Iterate through all pixels in image\n",
    "    for color in data:\n",
    "        #If pixel has tag for \n",
    "        if color.x == 4 or color.x == 10:\n",
    "            \n",
    "            camera_ID_list.append([color.r,color.g,color.b,color.a])\n",
    "            "
   ]
  },
  {
   "cell_type": "code",
   "execution_count": 16,
   "id": "f762a227-a63a-4c35-a5b3-497ea0196d47",
   "metadata": {},
   "outputs": [
    {
     "name": "stdout",
     "output_type": "stream",
     "text": [
      "24\n"
     ]
    },
    {
     "data": {
      "text/plain": [
       "2456"
      ]
     },
     "execution_count": 16,
     "metadata": {},
     "output_type": "execute_result"
    }
   ],
   "source": [
    "#Code to Run simulation for 30 seconds at 10 ticks/seconds\n",
    "#Each tick captures Lidar data, and exports data as .ply and .csv files \n",
    "#for pointcloud, and detected objects location/bounding box info\n",
    "original_settings = world.get_settings()\n",
    "settings = world.get_settings()\n",
    "# settings.substepping = True\n",
    "# settings.max_substep_delta_time = 0.01\n",
    "# settings.max_substeps = 10\n",
    "settings.fixed_delta_seconds = 0.05\n",
    "tm = client.get_trafficmanager(8000)\n",
    "# tm.set_global_distance_to_leading_vehicle(2.5)\n",
    "# tm.set_respawn_dormant_vehicles(True)\n",
    "tm.set_synchronous_mode(True)\n",
    "\n",
    "#Spawn Lidar\n",
    "lidar_bp = get_semantic_lidar_bp()\n",
    "lidar_location = carla.Location(18,-124,13)  #Top of lightpost\n",
    "lidar_rotation = carla.Rotation(-30,-133,0)\n",
    "lidar_init_trans = carla.Transform(lidar_location,lidar_rotation)\n",
    "semantic_lidar1 = world.spawn_actor(lidar_bp, lidar_init_trans, attach_to=None)\n",
    "time.sleep(0.5)\n",
    "setSpectator(lidar_init_trans)\n",
    "#Set Spectator at Lidar position\n",
    "\n",
    "#(x=-12.215067, y=-149.450333, z=10.452678), Rotation(pitch=-18.124172, yaw=45.274269, roll=0.000071))\n",
    "\n",
    "camera_bp, camera_init_trans = spawn_camera()\n",
    "camera = world.spawn_actor(camera_bp,camera_init_trans,attach_to=None)\n",
    "\n",
    "image_width = camera_bp.get_attribute(\"image_size_x\").as_int()\n",
    "image_height = camera_bp.get_attribute(\"image_size_y\").as_int()\n",
    "camera_data = {'image': np.zeros((image_height,image_width, 4))}\n",
    "\n",
    "time.sleep(0.5)\n",
    "\n",
    "\n",
    "\n",
    "settings.synchronous_mode = True\n",
    "\n",
    "#settings.fixed_delta_seconds = 0.1\n",
    "world.apply_settings(settings)\n",
    "\n",
    "#Turn on all vehicle AI\n",
    "for vehicle in world.get_actors().filter('*vehicle*'):\n",
    "    vehicle.set_autopilot(True)\n",
    "\n",
    "\n",
    "# Set up the AI controller for the pedestrian.... see below\n",
    "# controller_bp = world.get_blueprint_library().find('controller.ai.walker')\n",
    "# controller = world.spawn_actor(controller_bp, pedestrian.get_transform(), pedestrian)\n",
    "\n",
    "# Start the controller and give it a random location to move to\n",
    "# controller.start()\n",
    "# controller.go_to_location(get_random_pedestrian_location())\n",
    "\n",
    "#counting variable\n",
    "t = 1\n",
    "\n",
    "sensorQueue1 = Queue()\n",
    "\n",
    "\n",
    "#setup callback to push data to queue when available\n",
    "semantic_lidar1.listen(lambda data1: sensorQueue1.put_nowait(data1))\n",
    "camera.listen(lambda image: camera_callback(image, camera_data))\n",
    "world.tick()\n",
    "\n",
    "while True:\n",
    "    #Stop after 300 succesful data collections\n",
    "    if t> 200:\n",
    "        break\n",
    "    #\n",
    "    # if sensorQueue1.empty():\n",
    "    #     time.sleep(0.05)\n",
    "    #     continue\n",
    "    #retrieve first in queue Lidar Data\n",
    "    data1 = sensorQueue1.get(True)\n",
    "    \n",
    "    time.sleep(0.5)\n",
    "    #save .ply file\n",
    "    data1.save_to_disk('tutorial/new_lidar_output/lidar1/%.6d.ply' % data1.frame)\n",
    "    \n",
    "    #create .csv\n",
    "    lidarFilename = \"tutorial/new_lidar_output/\" + str(data1.frame) + \".csv\"\n",
    "    lidarFile = open(lidarFilename, \"w\")\n",
    "    lidarFile.write(\"Object ID,Semantic Tag,X,Y,Z,Yaw,Length,Width,Height\")\n",
    "    lidarFile.write('\\n')\n",
    "    \n",
    "    id_list = []\n",
    "    for detection in data1:\n",
    "        try:\n",
    "            if detection.object_idx not in id_list and detection.object_idx != world.get_spectator().id:\n",
    "                #add id to unique list\n",
    "                id_list.append(detection.object_idx)\n",
    "                \n",
    "                #temp actor assigned for ease of coding\n",
    "                actor = world.get_actor(detection.object_idx)\n",
    "    \n",
    "                #write object ID to first column of csv\n",
    "                lidarFile.write(str(detection.object_idx))\n",
    "                lidarFile.write(',')\n",
    "                lidarFile.write(str(actor.semantic_tags[0]))\n",
    "                lidarFile.write(',')\n",
    "                #Write Transform information for found object\n",
    "                transform = actor.get_transform()\n",
    "                lidarFile.write(str(transform.location.x))\n",
    "                lidarFile.write(',')\n",
    "                lidarFile.write(str(transform.location.y))\n",
    "                lidarFile.write(',')\n",
    "                lidarFile.write(str(transform.location.z))\n",
    "                lidarFile.write(',')\n",
    "                lidarFile.write(str(transform.rotation.yaw))\n",
    "                lidarFile.write(',')\n",
    "                \n",
    "                #Write Bounding Box information for found object\n",
    "                bounding = actor.bounding_box\n",
    "                # x = bounding.location.x\n",
    "                # y = bounding.location.y\n",
    "                # z = bounding.location.z\n",
    "                # yaw = bounding.rotation.yaw\n",
    "                \n",
    "                length = bounding.extent.x*2\n",
    "                width = bounding.extent.y*2\n",
    "                height = bounding.extent.z*2\n",
    "                # file.write(str(x))\n",
    "                # file.write(',')\n",
    "                # file.write(str(y))\n",
    "                # file.write(',')\n",
    "                # file.write(str(z))\n",
    "                # file.write(',')\n",
    "                # file.write(str(yaw))\n",
    "                # file.write(',')\n",
    "                lidarFile.write(str(length))\n",
    "                lidarFile.write(',')\n",
    "                lidarFile.write(str(width))\n",
    "                lidarFile.write(',')\n",
    "                lidarFile.write(str(height))\n",
    "                               \n",
    "                #make new line for next ID\n",
    "                lidarFile.write('\\n')\n",
    "        except:\n",
    "            continue\n",
    "    lidarFile.close()\n",
    "    time.sleep(0.01)\n",
    "    #iterate counting variable and step\n",
    "    t+=1\n",
    "    world.tick(1.0)\n",
    "\n",
    "turnOffVehicleAI()\n",
    "semantic_lidar1.stop()\n",
    "semantic_lidar1.destroy()\n",
    "camera.destroy()\n",
    "#Return Carla to default settings after sensor grab\n",
    "world.apply_settings(original_settings)"
   ]
  },
  {
   "cell_type": "code",
   "execution_count": 21,
   "id": "bc2a340b-e444-499b-b1e6-e117e61a8452",
   "metadata": {},
   "outputs": [
    {
     "name": "stderr",
     "output_type": "stream",
     "text": [
      "WARNING: attempting to unsubscribe from stream but sensor wasn't listening: Actor 112 (sensor.lidar.ray_cast_semantic) \n"
     ]
    },
    {
     "ename": "RuntimeError",
     "evalue": "trying to operate on a destroyed actor; an actor's function was called, but the actor is already destroyed.",
     "output_type": "error",
     "traceback": [
      "\u001b[0;31m---------------------------------------------------------------------------\u001b[0m",
      "\u001b[0;31mRuntimeError\u001b[0m                              Traceback (most recent call last)",
      "Cell \u001b[0;32mIn[21], line 2\u001b[0m\n\u001b[1;32m      1\u001b[0m semantic_lidar1\u001b[38;5;241m.\u001b[39mstop()\n\u001b[0;32m----> 2\u001b[0m \u001b[43msemantic_lidar1\u001b[49m\u001b[38;5;241;43m.\u001b[39;49m\u001b[43mdestroy\u001b[49m\u001b[43m(\u001b[49m\u001b[43m)\u001b[49m\n\u001b[1;32m      3\u001b[0m camera\u001b[38;5;241m.\u001b[39mstop()\n\u001b[1;32m      4\u001b[0m camera\u001b[38;5;241m.\u001b[39mdestroy()\n",
      "\u001b[0;31mRuntimeError\u001b[0m: trying to operate on a destroyed actor; an actor's function was called, but the actor is already destroyed."
     ]
    }
   ],
   "source": [
    "semantic_lidar1.stop()\n",
    "semantic_lidar1.destroy()\n",
    "camera.stop()\n",
    "camera.destroy()"
   ]
  },
  {
   "cell_type": "code",
   "execution_count": 12,
   "id": "2bec532f-be73-4fd5-b74d-54dcb99a21d5",
   "metadata": {},
   "outputs": [],
   "source": [
    "vehicle_spawn_points = [carla.Transform(carla.Location(0.700499, -189.727951, 0.039138),carla.Rotation(0,91.413528,0)),\n",
    "                       carla.Transform(carla.Location(0, -161.2, 0.003371),carla.Rotation(0,91.435211,0)),\n",
    "                       carla.Transform(carla.Location(5.778288, -113.229492, 0.067768),carla.Rotation(0,-88.876099,0)),\n",
    "                       carla.Transform(carla.Location(-3.098442, -183.513992, -0.006345),carla.Rotation(-0.003415,91.413528,0)),\n",
    "                       carla.Transform(carla.Location(-24.311588, -135.292282, -0.006437),carla.Rotation(-0.000061,1.226963,0.001293)),\n",
    "                       carla.Transform(carla.Location(9.184540, -101.743164, 0.000199),carla.Rotation(0,-88.586418,0)),\n",
    "                       carla.Transform(carla.Location(73.203979, -136.704651, 7.996281),carla.Rotation(-1.480286,-178.773956,-0.116272)),\n",
    "                       carla.Transform(carla.Location(73.266441, -139.972733, 8.045337),carla.Rotation(-1.480286,-178.773956,-0.116272)),\n",
    "                       carla.Transform(carla.Location(-15.723951, -131.572281, 0.279280),carla.Rotation(0,1.2,0)),\n",
    "                       carla.Transform(carla.Location(10.139042, -146.582550,-0.007044),carla.Rotation(0.002227,-88.586418,-0.000366)),\n",
    "                       carla.Transform(carla.Location(16.879513, -134.409973,0.066324),carla.Rotation(1.567317,1.230288,0.030370)),\n",
    "                       carla.Transform(carla.Location(-4.364792, -126.337173,0.000056),carla.Rotation(0,91.413528,0)),\n",
    "                       carla.Transform(carla.Location(-11.102114, -138.510193,-0.026897),carla.Rotation(0,-178.772690,0))]                       "
   ]
  },
  {
   "cell_type": "code",
   "execution_count": 15,
   "id": "d7f569df-be73-48ca-88e5-7ee7992c8de3",
   "metadata": {},
   "outputs": [],
   "source": [
    "#Spawn Vehicles\n",
    "spawn_points = world.get_map().get_spawn_points()\n",
    "for i in range(6):\n",
    "    vehicle_bp = random.choice(bp_lib.filter('vehicle'))\n",
    "    world.try_spawn_actor(vehicle_bp, random.choice(vehicle_spawn_points))"
   ]
  },
  {
   "cell_type": "code",
   "execution_count": 134,
   "id": "4b047c7f-e65d-40bb-8fbd-038ee21b46ef",
   "metadata": {},
   "outputs": [],
   "source": [
    "#Spawn Vehicles\n",
    "spawn_points = world.get_map().get_spawn_points()\n",
    "for i in range(50):\n",
    "    vehicle_bp = random.choice(bp_lib.filter('vehicle'))\n",
    "    npc = world.try_spawn_actor(vehicle_bp, random.choice(spawn_points))"
   ]
  },
  {
   "cell_type": "code",
   "execution_count": 19,
   "id": "7fe6be52-7ccb-4c66-8708-79b542700531",
   "metadata": {},
   "outputs": [],
   "source": [
    "for vehicle in world.get_actors().filter('*vehicle*'):\n",
    "    vehicle.destroy()"
   ]
  },
  {
   "cell_type": "code",
   "execution_count": null,
   "id": "aa79f713-6eee-4465-98a3-2f8b9dd880ff",
   "metadata": {},
   "outputs": [],
   "source": []
  },
  {
   "cell_type": "code",
   "execution_count": 14,
   "id": "4e444b72-8717-4064-8ea8-d99039e29004",
   "metadata": {},
   "outputs": [
    {
     "name": "stdout",
     "output_type": "stream",
     "text": [
      "24\n"
     ]
    },
    {
     "ename": "NameError",
     "evalue": "name 'semantic_lidar2' is not defined",
     "output_type": "error",
     "traceback": [
      "\u001b[0;31m---------------------------------------------------------------------------\u001b[0m",
      "\u001b[0;31mNameError\u001b[0m                                 Traceback (most recent call last)",
      "Cell \u001b[0;32mIn[14], line 52\u001b[0m\n\u001b[1;32m     50\u001b[0m     v\u001b[38;5;241m.\u001b[39mset_autopilot(\u001b[38;5;28;01mFalse\u001b[39;00m)\n\u001b[1;32m     51\u001b[0m semantic_lidar1\u001b[38;5;241m.\u001b[39mdestroy()\n\u001b[0;32m---> 52\u001b[0m \u001b[43msemantic_lidar2\u001b[49m\u001b[38;5;241m.\u001b[39mdestroy()\n\u001b[1;32m     53\u001b[0m world\u001b[38;5;241m.\u001b[39mapply_settings(original_settings)\n",
      "\u001b[0;31mNameError\u001b[0m: name 'semantic_lidar2' is not defined"
     ]
    }
   ],
   "source": [
    "original_settings = world.get_settings()\n",
    "settings = world.get_settings()\n",
    "# settings.substepping = True\n",
    "# settings.max_substep_delta_time = 0.01\n",
    "# settings.max_substeps = 10\n",
    "settings.fixed_delta_seconds = 0.05\n",
    "tm = client.get_trafficmanager(8000)\n",
    "# tm.set_global_distance_to_leading_vehicle(2.5)\n",
    "# tm.set_respawn_dormant_vehicles(True)\n",
    "# tm.set_synchronous_mode(True)\n",
    "settings.synchronous_mode = True\n",
    "#Spawn Lidar\n",
    "lidar_bp = get_semantic_lidar_bp()\n",
    "lidar_location = carla.Location(18,-124,13)  #Top of lightpost\n",
    "lidar_rotation = carla.Rotation(-30,-133,0)\n",
    "lidar_init_trans = carla.Transform(lidar_location,lidar_rotation)\n",
    "semantic_lidar1 = world.spawn_actor(lidar_bp, lidar_init_trans, attach_to=None)\n",
    "time.sleep(0.5)\n",
    "setSpectator(lidar_init_trans)\n",
    "#Set Spectator at Lidar position\n",
    "\n",
    "#(x=-12.215067, y=-149.450333, z=10.452678), Rotation(pitch=-18.124172, yaw=45.274269, roll=0.000071))\n",
    "lidar_bp = get_semantic_lidar_bp()\n",
    "lidar_location = carla.Location(-12.2,-149.5,13)  #Top of lightpost\n",
    "lidar_rotation = carla.Rotation(-18,45,0)\n",
    "lidar_init_trans = carla.Transform(lidar_location,lidar_rotation)\n",
    "# semantic_lidar2 = world.spawn_actor(lidar_bp, lidar_init_trans, attach_to=None)\n",
    "\n",
    "\n",
    "sensorQueue1 = Queue()\n",
    "sensorQueue2 = Queue()\n",
    "semantic_lidar1.listen(lambda data: sensorQueue1.put_nowait(data))\n",
    "# semantic_lidar2.listen(lambda data: sensorQueue2.put_nowait(data))\n",
    "camera.listen(lambda image: camera_callback(image, camera_data))\n",
    "time.sleep(0.5)\n",
    "#settings.fixed_delta_seconds = 0.1\n",
    "world.apply_settings(settings)\n",
    "world.tick()\n",
    "for v in world.get_actors().filter('*vehicle*'):\n",
    "    v.set_autopilot(True)\n",
    "for i in range(100):\n",
    "    world.tick()\n",
    "    time.sleep(0.1)\n",
    "for v in world.get_actors().filter('*vehicle*'):\n",
    "    v.set_autopilot(False)\n",
    "semantic_lidar1.destroy()\n",
    "semantic_lidar2.destroy()\n",
    "world.apply_settings(original_settings)"
   ]
  },
  {
   "cell_type": "code",
   "execution_count": 19,
   "id": "71dfd17a-61b1-4366-96c2-7fa70f673269",
   "metadata": {},
   "outputs": [],
   "source": [
    "location = carla.Location(16,-150,1.18)\n",
    "rotation = carla.Rotation(0,0,0)\n",
    "spectator = world.get_spectator()\n",
    "spectator.set_transform(carla.Transform(location, rotation))"
   ]
  },
  {
   "cell_type": "code",
   "execution_count": 58,
   "id": "18ff44b2-008c-4c97-a150-ad48c175c98a",
   "metadata": {},
   "outputs": [],
   "source": [
    "pedestrian_spawns = [[-13,-124,1.18],\n",
    "                     [16,-145,1.18],\n",
    "                     [-13,-145,1.198]]"
   ]
  },
  {
   "cell_type": "code",
   "execution_count": 37,
   "id": "f2c2419d-b1dd-45f6-a03c-857ebb5f6d62",
   "metadata": {},
   "outputs": [],
   "source": [
    "for spawn in pedestrian_spawns:\n",
    "    location = carla.Location(spawn[0],spawn[1],spawn[2])\n",
    "    rotation = carla.Rotation(0,0,0)\n",
    "    spectator.set_transform(carla.Transform(location,rotation))\n",
    "    time.sleep(3)"
   ]
  },
  {
   "cell_type": "code",
   "execution_count": 59,
   "id": "e2f5d19d-0e2e-4827-a30c-c8ff2c49af1e",
   "metadata": {},
   "outputs": [],
   "source": [
    "pedestrian_bp = random.choice(world.get_blueprint_library().filter('*walker.pedestrian*'))\n",
    "location = random.choice(pedestrian_spawns)\n",
    "transform = carla.Transform(carla.Location(location[0],location[1],location[2]))\n",
    "pedestrian = world.try_spawn_actor(pedestrian_bp, transform)"
   ]
  },
  {
   "cell_type": "code",
   "execution_count": 6,
   "id": "1e93a56d-c855-4052-95ae-3b8944de11c7",
   "metadata": {},
   "outputs": [
    {
     "ename": "NameError",
     "evalue": "name 'pedestrian' is not defined",
     "output_type": "error",
     "traceback": [
      "\u001b[0;31m---------------------------------------------------------------------------\u001b[0m",
      "\u001b[0;31mNameError\u001b[0m                                 Traceback (most recent call last)",
      "Cell \u001b[0;32mIn[6], line 2\u001b[0m\n\u001b[1;32m      1\u001b[0m spectator \u001b[38;5;241m=\u001b[39m world\u001b[38;5;241m.\u001b[39mget_spectator()\n\u001b[0;32m----> 2\u001b[0m transform \u001b[38;5;241m=\u001b[39m \u001b[43mpedestrian\u001b[49m\u001b[38;5;241m.\u001b[39mget_transform()\n\u001b[1;32m      3\u001b[0m spectator\u001b[38;5;241m.\u001b[39mset_transform(transform)\n",
      "\u001b[0;31mNameError\u001b[0m: name 'pedestrian' is not defined"
     ]
    }
   ],
   "source": [
    "spectator = world.get_spectator()\n",
    "transform = pedestrian.get_transform()\n",
    "spectator.set_transform(transform)"
   ]
  },
  {
   "cell_type": "code",
   "execution_count": 60,
   "id": "9db82ced-67a6-4d46-946f-884c36937897",
   "metadata": {},
   "outputs": [],
   "source": [
    "def get_random_pedestrian_location():\n",
    "    location = random.choice(pedestrian_spawns)\n",
    "    carla_location = carla.Location(location[0],location[1],location[2])\n",
    "    return carla_location"
   ]
  },
  {
   "cell_type": "code",
   "execution_count": 29,
   "id": "96e029d3-179b-470a-8e03-ba6afc09d12d",
   "metadata": {},
   "outputs": [],
   "source": [
    "# Set up the AI controller for the pedestrian.... see below\n",
    "controller_bp = world.get_blueprint_library().find('controller.ai.walker')\n",
    "controller = world.spawn_actor(controller_bp, pedestrian.get_transform(), pedestrian)\n",
    "\n",
    "# Start the controller and give it a random location to move to\n",
    "controller.start()\n",
    "controller.go_to_location(get_random_pedestrian_location())"
   ]
  },
  {
   "cell_type": "code",
   "execution_count": 10,
   "id": "649bfea0-4564-4200-a30f-42c27f4c0ac0",
   "metadata": {},
   "outputs": [
    {
     "name": "stderr",
     "output_type": "stream",
     "text": [
      "WARNING: synchronous mode enabled with variable delta seconds. It is highly recommended to set 'fixed_delta_seconds' when running on synchronous mode. \n"
     ]
    },
    {
     "data": {
      "text/plain": [
       "2745"
      ]
     },
     "execution_count": 10,
     "metadata": {},
     "output_type": "execute_result"
    }
   ],
   "source": [
    "settings = world.get_settings()\n",
    "settings.fixed_delta\n",
    "settings.synchronous_mode = True\n",
    "world.apply_settings(settings)\n",
    "\n",
    "world.tick()\n",
    "#turn all vehicle auto pilot on\n",
    "for v in world.get_actors().filter('*vehicle*'):\n",
    "    v.set_autopilot(True)\n",
    "\n",
    "for i in range(100):\n",
    "    world.tick()\n",
    "#Turn all vehicle auto pilot off\n",
    "for v in world.get_actors().filter('*vehicle*'):\n",
    "    v.set_autopilot(False)\n",
    "\n",
    "settings.synchronous_mode = False\n",
    "world.apply_settings(settings)"
   ]
  },
  {
   "cell_type": "code",
   "execution_count": 14,
   "id": "c3594444-1050-4656-8bff-731f9a88bc3d",
   "metadata": {},
   "outputs": [],
   "source": [
    "#Turn all vehicle auto pilot off\n",
    "for v in world.get_actors().filter('*vehicle*'):\n",
    "    v.set_autopilot(False)"
   ]
  },
  {
   "cell_type": "code",
   "execution_count": 43,
   "id": "4d24c2b3-6a40-42cb-976e-997bb94e8fb2",
   "metadata": {},
   "outputs": [],
   "source": [
    "#turn all vehicle auto pilot on\n",
    "for v in world.get_actors().filter('*vehicle*'):\n",
    "    v.set_autopilot(True)"
   ]
  },
  {
   "cell_type": "code",
   "execution_count": 71,
   "id": "ce598ce8-27ee-495e-a4f0-f6fa37742321",
   "metadata": {},
   "outputs": [
    {
     "name": "stderr",
     "output_type": "stream",
     "text": [
      "ERROR: failed to destroy actor 345 : unable to destroy actor: not found \n"
     ]
    }
   ],
   "source": [
    "#Destroy all walkers\n",
    "for i in world.get_actors().filter('*walker*'):\n",
    "    world.get_actor(i.id).destroy()"
   ]
  },
  {
   "cell_type": "code",
   "execution_count": 74,
   "id": "988b19b7-93ca-4a19-96b9-b0b803c092eb",
   "metadata": {},
   "outputs": [],
   "source": [
    "#Destroy all vehicles\n",
    "for i in world.get_actors().filter('*vehicle*'):\n",
    "    world.get_actor(i.id).destroy()"
   ]
  },
  {
   "cell_type": "code",
   "execution_count": 3,
   "id": "afb174ad-a70e-44d4-8b85-c35a22b12d1c",
   "metadata": {},
   "outputs": [],
   "source": [
    "#Spawn Licoln MKZ at random spawn point\n",
    "vehicle_bp = bp_lib.find('vehicle.lincoln.mkz_2020')\n",
    "vehicle = world.try_spawn_actor(vehicle_bp, random.choice(spawn_points))"
   ]
  },
  {
   "cell_type": "code",
   "execution_count": 4,
   "id": "59cf1b58-f90e-4427-8e0e-6bdc473a42f5",
   "metadata": {},
   "outputs": [],
   "source": [
    "#Move spectator camera to behind and above spawned vehicle\n",
    "spectator = world.get_spectator()\n",
    "transform = carla.Transform(vehicle.get_transform().transform(carla.Location(x=-4,z=2.5)), vehicle.get_transform().rotation)\n",
    "spectator.set_transform(transform)"
   ]
  },
  {
   "cell_type": "code",
   "execution_count": 25,
   "id": "7ef1ee97-dd21-457d-968a-832cddb7b7ee",
   "metadata": {},
   "outputs": [],
   "source": [
    "world.get_spectator().set_transform(world.get_actor(392).get_transform())"
   ]
  },
  {
   "cell_type": "code",
   "execution_count": 135,
   "id": "e8905001-029a-4158-8121-d16ba5f39286",
   "metadata": {},
   "outputs": [
    {
     "name": "stdout",
     "output_type": "stream",
     "text": [
      "1339 vehicle.mercedes.sprinter\n",
      "1488 vehicle.mercedes.sprinter\n",
      "1441 vehicle.mercedes.sprinter\n",
      "1414 vehicle.mercedes.sprinter\n"
     ]
    }
   ],
   "source": [
    "#List all actors with IDs\n",
    "for v in world.get_actors().filter('*sprint*'):\n",
    "    print(str(v.id) + ' ' + str(v.type_id))"
   ]
  },
  {
   "cell_type": "code",
   "execution_count": 10,
   "id": "9a0bef60-d2d4-48f7-afb0-85d34bcd530f",
   "metadata": {},
   "outputs": [
    {
     "name": "stdout",
     "output_type": "stream",
     "text": [
      "[10, 4]\n"
     ]
    }
   ],
   "source": [
    "print(world.get_actor(143).semantic_tags[0])"
   ]
  },
  {
   "cell_type": "code",
   "execution_count": 11,
   "id": "3e3ca5e1-2069-4b29-a138-95005a6aff8a",
   "metadata": {},
   "outputs": [],
   "source": [
    "bp = random.choice(bp_lib.filter('walker'))\n",
    "transform = world.get_map().get_spawn_points()[0]\n",
    "pedestrain = world.spawn_actor(bp, transform)"
   ]
  },
  {
   "cell_type": "code",
   "execution_count": 13,
   "id": "87ff61a5-3d58-41ec-a3cb-dd8bc0a475fe",
   "metadata": {},
   "outputs": [],
   "source": [
    "spectator = world.get_spectator()\n",
    "transform = carla.Transform(pedestrain.get_transform().transform(carla.Location(x=-4,z=2.5)), vehicle.get_transform().rotation)\n",
    "spectator.set_transform(transform)"
   ]
  },
  {
   "cell_type": "code",
   "execution_count": 17,
   "id": "9b87af29-4639-4426-a292-55228638d5ee",
   "metadata": {},
   "outputs": [],
   "source": [
    "spectator = world.get_spectator()\n",
    "transform = carla.Transform(carla.Location(0,10,10),carla.Rotation(0,0,0))\n",
    "spectator.set_transform(transform)\n",
    "                            "
   ]
  },
  {
   "cell_type": "code",
   "execution_count": 136,
   "id": "96afb50e-2fb9-4377-b147-832eb0579fe1",
   "metadata": {},
   "outputs": [],
   "source": [
    "world.get_spectator().set_transform(world.get_actor(1488).get_transform())"
   ]
  },
  {
   "cell_type": "code",
   "execution_count": 137,
   "id": "f6fcb7b6-1338-41aa-a50f-88a669970dc2",
   "metadata": {},
   "outputs": [
    {
     "name": "stdout",
     "output_type": "stream",
     "text": [
      "Transform(Location(x=-11.102114, y=-138.510193, z=-0.026897), Rotation(pitch=0.000000, yaw=-178.772690, roll=0.000000))\n"
     ]
    }
   ],
   "source": [
    "print(world.get_actor(1488).get_transform())"
   ]
  },
  {
   "cell_type": "code",
   "execution_count": 103,
   "id": "2bb61341-e38d-4517-b4cf-c5383e22a9f6",
   "metadata": {},
   "outputs": [
    {
     "name": "stdout",
     "output_type": "stream",
     "text": [
      "Transform(Location(x=-15.723951, y=-131.572281, z=0.279280), Rotation(pitch=-11.511990, yaw=-2.386841, roll=-0.000580))\n"
     ]
    }
   ],
   "source": [
    "print(world.get_spectator().get_transform())"
   ]
  },
  {
   "cell_type": "code",
   "execution_count": null,
   "id": "4b9e90a3-f80b-48f4-8051-c707301c1679",
   "metadata": {},
   "outputs": [],
   "source": []
  }
 ],
 "metadata": {
  "kernelspec": {
   "display_name": "Python 3 (ipykernel)",
   "language": "python",
   "name": "python3"
  },
  "language_info": {
   "codemirror_mode": {
    "name": "ipython",
    "version": 3
   },
   "file_extension": ".py",
   "mimetype": "text/x-python",
   "name": "python",
   "nbconvert_exporter": "python",
   "pygments_lexer": "ipython3",
   "version": "3.8.10"
  }
 },
 "nbformat": 4,
 "nbformat_minor": 5
}
